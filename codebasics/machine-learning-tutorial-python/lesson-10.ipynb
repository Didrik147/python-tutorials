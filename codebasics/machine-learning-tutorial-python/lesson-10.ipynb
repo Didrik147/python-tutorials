{
 "cells": [
  {
   "cell_type": "markdown",
   "metadata": {},
   "source": [
    "## Support Vector Machine (SVM)\n",
    "\n",
    "Sometimes you can draw multiple boundries in a scatter plot. Which one is best?\n",
    "\n",
    "You can take nearby datapoints and measure the distance.\n",
    "\n",
    "The one with the higher margin is better.\n",
    "\n",
    "Support Vector Machine draws a hyper plane in n dimensional space such that is maximizes margin between classification groups."
   ]
  },
  {
   "cell_type": "markdown",
   "metadata": {},
   "source": [
    "### Gamma & Regularization"
   ]
  },
  {
   "cell_type": "code",
   "execution_count": null,
   "metadata": {},
   "outputs": [],
   "source": []
  }
 ],
 "metadata": {
  "language_info": {
   "name": "python"
  }
 },
 "nbformat": 4,
 "nbformat_minor": 2
}
